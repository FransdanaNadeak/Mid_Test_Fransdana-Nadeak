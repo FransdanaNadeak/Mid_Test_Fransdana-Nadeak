{
 "cells": [
  {
   "cell_type": "markdown",
   "metadata": {},
   "source": [
    "# FRANSDANA NADEAK\n",
    "# MID-TEST\n",
    "----------\n",
    "# Predict Apartment Price in Victoria Using Regression\n",
    "\n",
    "\n",
    "### Background : \n",
    "The Dataset provides living area and conservation status.\n",
    "There are 218 observations and 16 variables.\n",
    "\n",
    "### Objective :\n",
    "Create a python script for the Use Case below, please upload the script after you finish.\n",
    "The Problem is to determine the best model and give the reason.\n",
    "\n",
    "Tony who has profession as a broker wants to predict apartment price in Victoria based on living\n",
    "area environment and apartment conservation status. Determine the best model to predict and\n",
    "redefine new conservation variable in 3 level, A = 1A, B = 2A, C = 2B and 3A.\n",
    "\n",
    "### Instructions :\n",
    "Download the dataset as a CSV file and place it in your current working directory with the filename\n",
    "\"victoria.csv\".\n",
    "1. Import Dataset: Load the dataset.\n",
    "2. Exploratory Data Analysis: Create summary of the dataset, with python function. (mean,median, modus, max, min, range)\n",
    "3. Data Visualization: Create any kind suitable plot of dataset, it will provide a lot of insightinto the problem.\n",
    "4. Variable Selection: Choose the variable and its reason.\n",
    "5. Modelling: Create models using Regression\n",
    "6. Accuracy or Error: Calculate the Error using the helper function from the library, from dataset only\n",
    "\n"
   ]
  },
  {
   "cell_type": "markdown",
   "metadata": {},
   "source": [
    "# 1. Import Dataset : Load Dataset"
   ]
  },
  {
   "cell_type": "markdown",
   "metadata": {},
   "source": [
    "### Import Library"
   ]
  },
  {
   "cell_type": "code",
   "execution_count": 20,
   "metadata": {},
   "outputs": [],
   "source": [
    "import warnings\n",
    "warnings.filterwarnings(\"ignore\")\n",
    "#from sklearn.model_selection import GridSearchCV\n",
    "import numpy as np\n",
    "import pandas as pd\n",
    "import matplotlib.pyplot as plt\n",
    "import seaborn as sns\n",
    "import numpy as np\n",
    "from sklearn.linear_model import LinearRegression,Ridge, Lasso\n",
    "from sklearn.tree import DecisionTreeRegressor\n",
    "from sklearn.ensemble import GradientBoostingRegressor, RandomForestRegressor, GradientBoostingRegressor\n",
    "from sklearn.svm import LinearSVR, SVR\n",
    "from sklearn.neighbors import KNeighborsRegressor\n",
    "from sklearn.neural_network import MLPRegressor\n",
    "from sklearn.metrics import mean_squared_error"
   ]
  },
  {
   "cell_type": "markdown",
   "metadata": {},
   "source": [
    "### Load Dataset"
   ]
  },
  {
   "cell_type": "code",
   "execution_count": 21,
   "metadata": {},
   "outputs": [
    {
     "data": {
      "text/html": [
       "<div>\n",
       "<style scoped>\n",
       "    .dataframe tbody tr th:only-of-type {\n",
       "        vertical-align: middle;\n",
       "    }\n",
       "\n",
       "    .dataframe tbody tr th {\n",
       "        vertical-align: top;\n",
       "    }\n",
       "\n",
       "    .dataframe thead th {\n",
       "        text-align: right;\n",
       "    }\n",
       "</style>\n",
       "<table border=\"1\" class=\"dataframe\">\n",
       "  <thead>\n",
       "    <tr style=\"text-align: right;\">\n",
       "      <th></th>\n",
       "      <th>totalprice</th>\n",
       "      <th>area</th>\n",
       "      <th>zone</th>\n",
       "      <th>category</th>\n",
       "      <th>age</th>\n",
       "      <th>floor</th>\n",
       "      <th>rooms</th>\n",
       "      <th>out</th>\n",
       "      <th>conservation</th>\n",
       "      <th>toilets</th>\n",
       "      <th>garage</th>\n",
       "      <th>elevator</th>\n",
       "      <th>streetcategory</th>\n",
       "      <th>heating</th>\n",
       "      <th>tras</th>\n",
       "    </tr>\n",
       "  </thead>\n",
       "  <tbody>\n",
       "    <tr>\n",
       "      <td>0</td>\n",
       "      <td>228000.0</td>\n",
       "      <td>7.531000e+09</td>\n",
       "      <td>Z45</td>\n",
       "      <td>4B</td>\n",
       "      <td>33</td>\n",
       "      <td>3</td>\n",
       "      <td>5</td>\n",
       "      <td>E100</td>\n",
       "      <td>2B</td>\n",
       "      <td>1</td>\n",
       "      <td>0</td>\n",
       "      <td>1</td>\n",
       "      <td>S3</td>\n",
       "      <td>3A</td>\n",
       "      <td>0</td>\n",
       "    </tr>\n",
       "    <tr>\n",
       "      <td>1</td>\n",
       "      <td>409000.0</td>\n",
       "      <td>1.006500e+09</td>\n",
       "      <td>Z31</td>\n",
       "      <td>3B</td>\n",
       "      <td>5</td>\n",
       "      <td>7</td>\n",
       "      <td>5</td>\n",
       "      <td>E50</td>\n",
       "      <td>1A</td>\n",
       "      <td>2</td>\n",
       "      <td>1</td>\n",
       "      <td>1</td>\n",
       "      <td>S5</td>\n",
       "      <td>4A</td>\n",
       "      <td>1</td>\n",
       "    </tr>\n",
       "    <tr>\n",
       "      <td>2</td>\n",
       "      <td>200000.0</td>\n",
       "      <td>8.887000e+09</td>\n",
       "      <td>Z52</td>\n",
       "      <td>3A</td>\n",
       "      <td>14</td>\n",
       "      <td>8</td>\n",
       "      <td>5</td>\n",
       "      <td>E50</td>\n",
       "      <td>1A</td>\n",
       "      <td>2</td>\n",
       "      <td>0</td>\n",
       "      <td>1</td>\n",
       "      <td>S2</td>\n",
       "      <td>3A</td>\n",
       "      <td>0</td>\n",
       "    </tr>\n",
       "    <tr>\n",
       "      <td>3</td>\n",
       "      <td>180000.0</td>\n",
       "      <td>6.261000e+09</td>\n",
       "      <td>Z62</td>\n",
       "      <td>4A</td>\n",
       "      <td>41</td>\n",
       "      <td>3</td>\n",
       "      <td>4</td>\n",
       "      <td>E50</td>\n",
       "      <td>2A</td>\n",
       "      <td>1</td>\n",
       "      <td>0</td>\n",
       "      <td>0</td>\n",
       "      <td>S3</td>\n",
       "      <td>1A</td>\n",
       "      <td>0</td>\n",
       "    </tr>\n",
       "    <tr>\n",
       "      <td>4</td>\n",
       "      <td>443600.0</td>\n",
       "      <td>1.461500e+09</td>\n",
       "      <td>Z31</td>\n",
       "      <td>3A</td>\n",
       "      <td>22</td>\n",
       "      <td>6</td>\n",
       "      <td>7</td>\n",
       "      <td>E100</td>\n",
       "      <td>1A</td>\n",
       "      <td>2</td>\n",
       "      <td>0</td>\n",
       "      <td>1</td>\n",
       "      <td>S4</td>\n",
       "      <td>4A</td>\n",
       "      <td>1</td>\n",
       "    </tr>\n",
       "  </tbody>\n",
       "</table>\n",
       "</div>"
      ],
      "text/plain": [
       "   totalprice          area zone category  age  floor  rooms   out  \\\n",
       "0    228000.0  7.531000e+09  Z45       4B   33      3      5  E100   \n",
       "1    409000.0  1.006500e+09  Z31       3B    5      7      5   E50   \n",
       "2    200000.0  8.887000e+09  Z52       3A   14      8      5   E50   \n",
       "3    180000.0  6.261000e+09  Z62       4A   41      3      4   E50   \n",
       "4    443600.0  1.461500e+09  Z31       3A   22      6      7  E100   \n",
       "\n",
       "  conservation  toilets  garage  elevator streetcategory heating  tras  \n",
       "0           2B        1       0         1             S3      3A     0  \n",
       "1           1A        2       1         1             S5      4A     1  \n",
       "2           1A        2       0         1             S2      3A     0  \n",
       "3           2A        1       0         0             S3      1A     0  \n",
       "4           1A        2       0         1             S4      4A     1  "
      ]
     },
     "execution_count": 21,
     "metadata": {},
     "output_type": "execute_result"
    }
   ],
   "source": [
    "data=pd.read_csv('victoria1.csv', sep=';')\n",
    "data=data.drop('row.labels',axis=1)\n",
    "data.head()\n"
   ]
  },
  {
   "cell_type": "markdown",
   "metadata": {},
   "source": [
    "# 2. Exploratory Data Analysis"
   ]
  },
  {
   "cell_type": "markdown",
   "metadata": {},
   "source": [
    "### Create summary of the dataset (mean, median, modus, max, min, range)"
   ]
  },
  {
   "cell_type": "code",
   "execution_count": 22,
   "metadata": {},
   "outputs": [
    {
     "data": {
      "text/html": [
       "<div>\n",
       "<style scoped>\n",
       "    .dataframe tbody tr th:only-of-type {\n",
       "        vertical-align: middle;\n",
       "    }\n",
       "\n",
       "    .dataframe tbody tr th {\n",
       "        vertical-align: top;\n",
       "    }\n",
       "\n",
       "    .dataframe thead th {\n",
       "        text-align: right;\n",
       "    }\n",
       "</style>\n",
       "<table border=\"1\" class=\"dataframe\">\n",
       "  <thead>\n",
       "    <tr style=\"text-align: right;\">\n",
       "      <th></th>\n",
       "      <th>totalprice</th>\n",
       "      <th>area</th>\n",
       "      <th>age</th>\n",
       "      <th>floor</th>\n",
       "      <th>rooms</th>\n",
       "      <th>toilets</th>\n",
       "      <th>garage</th>\n",
       "      <th>elevator</th>\n",
       "      <th>tras</th>\n",
       "    </tr>\n",
       "  </thead>\n",
       "  <tbody>\n",
       "    <tr>\n",
       "      <td>count</td>\n",
       "      <td>218.000000</td>\n",
       "      <td>2.180000e+02</td>\n",
       "      <td>218.000000</td>\n",
       "      <td>218.000000</td>\n",
       "      <td>218.000000</td>\n",
       "      <td>218.000000</td>\n",
       "      <td>218.000000</td>\n",
       "      <td>218.000000</td>\n",
       "      <td>218.000000</td>\n",
       "    </tr>\n",
       "    <tr>\n",
       "      <td>mean</td>\n",
       "      <td>280741.523853</td>\n",
       "      <td>5.718657e+09</td>\n",
       "      <td>19.899083</td>\n",
       "      <td>4.440367</td>\n",
       "      <td>4.853211</td>\n",
       "      <td>1.467890</td>\n",
       "      <td>0.243119</td>\n",
       "      <td>0.798165</td>\n",
       "      <td>0.807339</td>\n",
       "    </tr>\n",
       "    <tr>\n",
       "      <td>std</td>\n",
       "      <td>69298.459358</td>\n",
       "      <td>3.455007e+09</td>\n",
       "      <td>14.595590</td>\n",
       "      <td>2.126988</td>\n",
       "      <td>0.634285</td>\n",
       "      <td>0.500116</td>\n",
       "      <td>0.450881</td>\n",
       "      <td>0.402293</td>\n",
       "      <td>0.406787</td>\n",
       "    </tr>\n",
       "    <tr>\n",
       "      <td>min</td>\n",
       "      <td>155000.000000</td>\n",
       "      <td>5.300000e+01</td>\n",
       "      <td>1.000000</td>\n",
       "      <td>1.000000</td>\n",
       "      <td>3.000000</td>\n",
       "      <td>1.000000</td>\n",
       "      <td>0.000000</td>\n",
       "      <td>0.000000</td>\n",
       "      <td>0.000000</td>\n",
       "    </tr>\n",
       "    <tr>\n",
       "      <td>25%</td>\n",
       "      <td>228500.000000</td>\n",
       "      <td>1.187250e+09</td>\n",
       "      <td>11.000000</td>\n",
       "      <td>3.000000</td>\n",
       "      <td>5.000000</td>\n",
       "      <td>1.000000</td>\n",
       "      <td>0.000000</td>\n",
       "      <td>1.000000</td>\n",
       "      <td>1.000000</td>\n",
       "    </tr>\n",
       "    <tr>\n",
       "      <td>50%</td>\n",
       "      <td>269750.000000</td>\n",
       "      <td>7.118500e+09</td>\n",
       "      <td>16.000000</td>\n",
       "      <td>4.000000</td>\n",
       "      <td>5.000000</td>\n",
       "      <td>1.000000</td>\n",
       "      <td>0.000000</td>\n",
       "      <td>1.000000</td>\n",
       "      <td>1.000000</td>\n",
       "    </tr>\n",
       "    <tr>\n",
       "      <td>75%</td>\n",
       "      <td>328625.000000</td>\n",
       "      <td>8.542750e+09</td>\n",
       "      <td>24.000000</td>\n",
       "      <td>5.000000</td>\n",
       "      <td>5.000000</td>\n",
       "      <td>2.000000</td>\n",
       "      <td>0.000000</td>\n",
       "      <td>1.000000</td>\n",
       "      <td>1.000000</td>\n",
       "    </tr>\n",
       "    <tr>\n",
       "      <td>max</td>\n",
       "      <td>560000.000000</td>\n",
       "      <td>9.992000e+09</td>\n",
       "      <td>118.000000</td>\n",
       "      <td>12.000000</td>\n",
       "      <td>7.000000</td>\n",
       "      <td>2.000000</td>\n",
       "      <td>2.000000</td>\n",
       "      <td>1.000000</td>\n",
       "      <td>2.000000</td>\n",
       "    </tr>\n",
       "  </tbody>\n",
       "</table>\n",
       "</div>"
      ],
      "text/plain": [
       "          totalprice          area         age       floor       rooms  \\\n",
       "count     218.000000  2.180000e+02  218.000000  218.000000  218.000000   \n",
       "mean   280741.523853  5.718657e+09   19.899083    4.440367    4.853211   \n",
       "std     69298.459358  3.455007e+09   14.595590    2.126988    0.634285   \n",
       "min    155000.000000  5.300000e+01    1.000000    1.000000    3.000000   \n",
       "25%    228500.000000  1.187250e+09   11.000000    3.000000    5.000000   \n",
       "50%    269750.000000  7.118500e+09   16.000000    4.000000    5.000000   \n",
       "75%    328625.000000  8.542750e+09   24.000000    5.000000    5.000000   \n",
       "max    560000.000000  9.992000e+09  118.000000   12.000000    7.000000   \n",
       "\n",
       "          toilets      garage    elevator        tras  \n",
       "count  218.000000  218.000000  218.000000  218.000000  \n",
       "mean     1.467890    0.243119    0.798165    0.807339  \n",
       "std      0.500116    0.450881    0.402293    0.406787  \n",
       "min      1.000000    0.000000    0.000000    0.000000  \n",
       "25%      1.000000    0.000000    1.000000    1.000000  \n",
       "50%      1.000000    0.000000    1.000000    1.000000  \n",
       "75%      2.000000    0.000000    1.000000    1.000000  \n",
       "max      2.000000    2.000000    1.000000    2.000000  "
      ]
     },
     "execution_count": 22,
     "metadata": {},
     "output_type": "execute_result"
    }
   ],
   "source": [
    "data.describe()"
   ]
  },
  {
   "cell_type": "markdown",
   "metadata": {},
   "source": [
    "# Data Visualization\n",
    "## Create any kind suitable plot of dataset, it will provide a lot of insight into the problem"
   ]
  },
  {
   "cell_type": "markdown",
   "metadata": {},
   "source": [
    "### Split Categorical Variable"
   ]
  },
  {
   "cell_type": "code",
   "execution_count": 23,
   "metadata": {},
   "outputs": [
    {
     "data": {
      "text/html": [
       "<div>\n",
       "<style scoped>\n",
       "    .dataframe tbody tr th:only-of-type {\n",
       "        vertical-align: middle;\n",
       "    }\n",
       "\n",
       "    .dataframe tbody tr th {\n",
       "        vertical-align: top;\n",
       "    }\n",
       "\n",
       "    .dataframe thead th {\n",
       "        text-align: right;\n",
       "    }\n",
       "</style>\n",
       "<table border=\"1\" class=\"dataframe\">\n",
       "  <thead>\n",
       "    <tr style=\"text-align: right;\">\n",
       "      <th></th>\n",
       "      <th>zone</th>\n",
       "      <th>category</th>\n",
       "      <th>out</th>\n",
       "      <th>conservation</th>\n",
       "      <th>streetcategory</th>\n",
       "      <th>heating</th>\n",
       "    </tr>\n",
       "  </thead>\n",
       "  <tbody>\n",
       "    <tr>\n",
       "      <td>0</td>\n",
       "      <td>Z45</td>\n",
       "      <td>4B</td>\n",
       "      <td>E100</td>\n",
       "      <td>2B</td>\n",
       "      <td>S3</td>\n",
       "      <td>3A</td>\n",
       "    </tr>\n",
       "    <tr>\n",
       "      <td>1</td>\n",
       "      <td>Z31</td>\n",
       "      <td>3B</td>\n",
       "      <td>E50</td>\n",
       "      <td>1A</td>\n",
       "      <td>S5</td>\n",
       "      <td>4A</td>\n",
       "    </tr>\n",
       "    <tr>\n",
       "      <td>2</td>\n",
       "      <td>Z52</td>\n",
       "      <td>3A</td>\n",
       "      <td>E50</td>\n",
       "      <td>1A</td>\n",
       "      <td>S2</td>\n",
       "      <td>3A</td>\n",
       "    </tr>\n",
       "    <tr>\n",
       "      <td>3</td>\n",
       "      <td>Z62</td>\n",
       "      <td>4A</td>\n",
       "      <td>E50</td>\n",
       "      <td>2A</td>\n",
       "      <td>S3</td>\n",
       "      <td>1A</td>\n",
       "    </tr>\n",
       "    <tr>\n",
       "      <td>4</td>\n",
       "      <td>Z31</td>\n",
       "      <td>3A</td>\n",
       "      <td>E100</td>\n",
       "      <td>1A</td>\n",
       "      <td>S4</td>\n",
       "      <td>4A</td>\n",
       "    </tr>\n",
       "  </tbody>\n",
       "</table>\n",
       "</div>"
      ],
      "text/plain": [
       "  zone category   out conservation streetcategory heating\n",
       "0  Z45       4B  E100           2B             S3      3A\n",
       "1  Z31       3B   E50           1A             S5      4A\n",
       "2  Z52       3A   E50           1A             S2      3A\n",
       "3  Z62       4A   E50           2A             S3      1A\n",
       "4  Z31       3A  E100           1A             S4      4A"
      ]
     },
     "execution_count": 23,
     "metadata": {},
     "output_type": "execute_result"
    }
   ],
   "source": [
    "kategorik=['zone','category','out','conservation','streetcategory','heating']\n",
    "kategorik=data[kategorik]\n",
    "numerik=data.drop(kategorik,axis=1)\n",
    "kategorik.head()"
   ]
  },
  {
   "cell_type": "markdown",
   "metadata": {},
   "source": [
    "### Split Numerical Variable"
   ]
  },
  {
   "cell_type": "code",
   "execution_count": 24,
   "metadata": {},
   "outputs": [
    {
     "data": {
      "text/html": [
       "<div>\n",
       "<style scoped>\n",
       "    .dataframe tbody tr th:only-of-type {\n",
       "        vertical-align: middle;\n",
       "    }\n",
       "\n",
       "    .dataframe tbody tr th {\n",
       "        vertical-align: top;\n",
       "    }\n",
       "\n",
       "    .dataframe thead th {\n",
       "        text-align: right;\n",
       "    }\n",
       "</style>\n",
       "<table border=\"1\" class=\"dataframe\">\n",
       "  <thead>\n",
       "    <tr style=\"text-align: right;\">\n",
       "      <th></th>\n",
       "      <th>totalprice</th>\n",
       "      <th>area</th>\n",
       "      <th>age</th>\n",
       "      <th>floor</th>\n",
       "      <th>rooms</th>\n",
       "      <th>toilets</th>\n",
       "      <th>garage</th>\n",
       "      <th>elevator</th>\n",
       "      <th>tras</th>\n",
       "    </tr>\n",
       "  </thead>\n",
       "  <tbody>\n",
       "    <tr>\n",
       "      <td>0</td>\n",
       "      <td>228000.0</td>\n",
       "      <td>7.531000e+09</td>\n",
       "      <td>33</td>\n",
       "      <td>3</td>\n",
       "      <td>5</td>\n",
       "      <td>1</td>\n",
       "      <td>0</td>\n",
       "      <td>1</td>\n",
       "      <td>0</td>\n",
       "    </tr>\n",
       "    <tr>\n",
       "      <td>1</td>\n",
       "      <td>409000.0</td>\n",
       "      <td>1.006500e+09</td>\n",
       "      <td>5</td>\n",
       "      <td>7</td>\n",
       "      <td>5</td>\n",
       "      <td>2</td>\n",
       "      <td>1</td>\n",
       "      <td>1</td>\n",
       "      <td>1</td>\n",
       "    </tr>\n",
       "    <tr>\n",
       "      <td>2</td>\n",
       "      <td>200000.0</td>\n",
       "      <td>8.887000e+09</td>\n",
       "      <td>14</td>\n",
       "      <td>8</td>\n",
       "      <td>5</td>\n",
       "      <td>2</td>\n",
       "      <td>0</td>\n",
       "      <td>1</td>\n",
       "      <td>0</td>\n",
       "    </tr>\n",
       "    <tr>\n",
       "      <td>3</td>\n",
       "      <td>180000.0</td>\n",
       "      <td>6.261000e+09</td>\n",
       "      <td>41</td>\n",
       "      <td>3</td>\n",
       "      <td>4</td>\n",
       "      <td>1</td>\n",
       "      <td>0</td>\n",
       "      <td>0</td>\n",
       "      <td>0</td>\n",
       "    </tr>\n",
       "    <tr>\n",
       "      <td>4</td>\n",
       "      <td>443600.0</td>\n",
       "      <td>1.461500e+09</td>\n",
       "      <td>22</td>\n",
       "      <td>6</td>\n",
       "      <td>7</td>\n",
       "      <td>2</td>\n",
       "      <td>0</td>\n",
       "      <td>1</td>\n",
       "      <td>1</td>\n",
       "    </tr>\n",
       "  </tbody>\n",
       "</table>\n",
       "</div>"
      ],
      "text/plain": [
       "   totalprice          area  age  floor  rooms  toilets  garage  elevator  \\\n",
       "0    228000.0  7.531000e+09   33      3      5        1       0         1   \n",
       "1    409000.0  1.006500e+09    5      7      5        2       1         1   \n",
       "2    200000.0  8.887000e+09   14      8      5        2       0         1   \n",
       "3    180000.0  6.261000e+09   41      3      4        1       0         0   \n",
       "4    443600.0  1.461500e+09   22      6      7        2       0         1   \n",
       "\n",
       "   tras  \n",
       "0     0  \n",
       "1     1  \n",
       "2     0  \n",
       "3     0  \n",
       "4     1  "
      ]
     },
     "execution_count": 24,
     "metadata": {},
     "output_type": "execute_result"
    }
   ],
   "source": [
    "numerik.head()"
   ]
  },
  {
   "cell_type": "markdown",
   "metadata": {},
   "source": [
    "### Visualization of Total Price and Area"
   ]
  },
  {
   "cell_type": "code",
   "execution_count": 25,
   "metadata": {},
   "outputs": [
    {
     "data": {
      "text/html": [
       "<div>\n",
       "<style scoped>\n",
       "    .dataframe tbody tr th:only-of-type {\n",
       "        vertical-align: middle;\n",
       "    }\n",
       "\n",
       "    .dataframe tbody tr th {\n",
       "        vertical-align: top;\n",
       "    }\n",
       "\n",
       "    .dataframe thead th {\n",
       "        text-align: right;\n",
       "    }\n",
       "</style>\n",
       "<table border=\"1\" class=\"dataframe\">\n",
       "  <thead>\n",
       "    <tr style=\"text-align: right;\">\n",
       "      <th></th>\n",
       "      <th>totalprice</th>\n",
       "      <th>area</th>\n",
       "    </tr>\n",
       "  </thead>\n",
       "  <tbody>\n",
       "    <tr>\n",
       "      <td>count</td>\n",
       "      <td>218.000000</td>\n",
       "      <td>2.180000e+02</td>\n",
       "    </tr>\n",
       "    <tr>\n",
       "      <td>mean</td>\n",
       "      <td>280741.523853</td>\n",
       "      <td>5.718657e+09</td>\n",
       "    </tr>\n",
       "    <tr>\n",
       "      <td>std</td>\n",
       "      <td>69298.459358</td>\n",
       "      <td>3.455007e+09</td>\n",
       "    </tr>\n",
       "    <tr>\n",
       "      <td>min</td>\n",
       "      <td>155000.000000</td>\n",
       "      <td>5.300000e+01</td>\n",
       "    </tr>\n",
       "    <tr>\n",
       "      <td>25%</td>\n",
       "      <td>228500.000000</td>\n",
       "      <td>1.187250e+09</td>\n",
       "    </tr>\n",
       "    <tr>\n",
       "      <td>50%</td>\n",
       "      <td>269750.000000</td>\n",
       "      <td>7.118500e+09</td>\n",
       "    </tr>\n",
       "    <tr>\n",
       "      <td>75%</td>\n",
       "      <td>328625.000000</td>\n",
       "      <td>8.542750e+09</td>\n",
       "    </tr>\n",
       "    <tr>\n",
       "      <td>max</td>\n",
       "      <td>560000.000000</td>\n",
       "      <td>9.992000e+09</td>\n",
       "    </tr>\n",
       "  </tbody>\n",
       "</table>\n",
       "</div>"
      ],
      "text/plain": [
       "          totalprice          area\n",
       "count     218.000000  2.180000e+02\n",
       "mean   280741.523853  5.718657e+09\n",
       "std     69298.459358  3.455007e+09\n",
       "min    155000.000000  5.300000e+01\n",
       "25%    228500.000000  1.187250e+09\n",
       "50%    269750.000000  7.118500e+09\n",
       "75%    328625.000000  8.542750e+09\n",
       "max    560000.000000  9.992000e+09"
      ]
     },
     "execution_count": 25,
     "metadata": {},
     "output_type": "execute_result"
    },
    {
     "data": {
      "image/png": "[encoded data removed]",
      "text/plain": [
       "<Figure size 936x360 with 2 Axes>"
      ]
     },
     "metadata": {},
     "output_type": "display_data"
    }
   ],
   "source": [
    "import seaborn as sns\n",
    "f=plt.figure(figsize=(13,5))\n",
    "f.add_subplot(1,2,1)\n",
    "sns.distplot(data['totalprice'])\n",
    "plt.title('Histogram of Total Price')\n",
    "f.add_subplot(1,2,2)\n",
    "sns.distplot(data['area'])\n",
    "plt.title('Histogram of Area')\n",
    "\n",
    "data[['totalprice','area']].describe()\n"
   ]
  },
  {
   "cell_type": "markdown",
   "metadata": {},
   "source": [
    "1. From the histogram plot above, it can be seen that the total price of the House ranges between 200000 and 300000.\n",
    "2. From the Area Variable Histogram, it can be seen that the area of the house ranges about 0.6 to 1 unit area."
   ]
  },
  {
   "cell_type": "markdown",
   "metadata": {},
   "source": [
    "### Relation of Area and Total Price"
   ]
  },
  {
   "cell_type": "code",
   "execution_count": 26,
   "metadata": {},
   "outputs": [
    {
     "data": {
      "image/png": "[encoded data removed]",
      "text/plain": [
       "<Figure size 432x288 with 1 Axes>"
      ]
     },
     "metadata": {},
     "output_type": "display_data"
    }
   ],
   "source": [
    "sns.regplot(data['area'],data['totalprice'])\n",
    "plt.title('AREA X TOTALPRICE')\n",
    "plt.show()"
   ]
  },
  {
   "cell_type": "markdown",
   "metadata": {},
   "source": [
    "From the scatter plot above it can be seen that there are 2 clusters / groups formed, namely the clusters to the left and right. The left cluster shows that areas from 0 to 0.2 have very variable prices.\n",
    "\n",
    "From the right cluster, it can be seen that there is an increase in relations, that is, the greater the area of ​​the house, the higher the price of the house"
   ]
  },
  {
   "cell_type": "markdown",
   "metadata": {},
   "source": [
    "## Visualization Of Age and Elevator"
   ]
  },
  {
   "cell_type": "code",
   "execution_count": 27,
   "metadata": {},
   "outputs": [
    {
     "data": {
      "image/png": "[encoded data removed]",
      "text/plain": [
       "<Figure size 936x720 with 4 Axes>"
      ]
     },
     "metadata": {},
     "output_type": "display_data"
    }
   ],
   "source": [
    "f=plt.figure(figsize=(13,10))\n",
    "# Distribution off Age\n",
    "f.add_subplot(2,2,1)\n",
    "a=sns.distplot(data.age, bins=70)\n",
    "a.set_xlabel(\"age\", fontsize=15)\n",
    "\n",
    "f.add_subplot(2,2,2)\n",
    "a=sns.distplot(data.totalprice, bins=70)\n",
    "a.set_xlabel(\"totalprice\", fontsize=15)\n",
    "\n",
    "f.add_subplot(2,2,3)\n",
    "c=sns.boxplot(y=data['age'],x=data['elevator'])\n",
    "c.set_xlabel(\"Age X Elevator\", fontsize=15)\n",
    "\n",
    "f.add_subplot(2,2,4)\n",
    "c=sns.boxplot(y=data['totalprice'],x=data['elevator'])\n",
    "c.set_xlabel(\"Totalprice X Elevator\", fontsize=15)\n",
    "\n",
    "plt.show()\n",
    "\n"
   ]
  },
  {
   "cell_type": "markdown",
   "metadata": {},
   "source": [
    "1. From the histogram on the left, it appears that a house that has an elevator in it is usually a house that has just been created or formed. Old houses rarely have elevators\n",
    "2. From the histogram on the right, it appears that houses that have elevators have much more expensive prices than those that doesn't have elevators"
   ]
  },
  {
   "cell_type": "markdown",
   "metadata": {},
   "source": [
    "## Price Compared by Street Category, Category, and Out"
   ]
  },
  {
   "cell_type": "code",
   "execution_count": 28,
   "metadata": {},
   "outputs": [
    {
     "data": {
      "image/png": "[encoded data removed]",
      "text/plain": [
       "<Figure size 1296x1080 with 3 Axes>"
      ]
     },
     "metadata": {},
     "output_type": "display_data"
    }
   ],
   "source": [
    "f=plt.figure(figsize=(18,15))\n",
    "# Distribution off Age\n",
    "f.add_subplot(3,3,1)\n",
    "c=sns.boxplot(y=data['totalprice'],x=data['streetcategory'], order=['S2','S3','S4','S5'])\n",
    "c.set_xlabel(\"Price X streetCategory\", fontsize=15)\n",
    "\n",
    "f.add_subplot(3,3,2)\n",
    "c=sns.boxplot(y=data['totalprice'],x=data['category'], order=['2A','2B','3A','3B','4A','4B','5A'])\n",
    "c.set_xlabel(\"Price X category\", fontsize=15)\n",
    "\n",
    "f.add_subplot(3,3,3)\n",
    "c=sns.boxplot(y=data['totalprice'],x=data['out'],order=['E25','E50','E75','E100'])\n",
    "c.set_xlabel(\"Price X out\", fontsize=15)\n",
    "plt.show()"
   ]
  },
  {
   "cell_type": "markdown",
   "metadata": {},
   "source": [
    "1. The first boxplot shows that there is no significant price difference for each type of streetCategory\n",
    "2. From the second boxplot, it can be seen that the bigger or higher the house category, the cheaper the price will be. Category 2A has the most expensive price, while Category 5A has the lowest price\n",
    "3. From the third boxplot, it can be seen that 4 Type outs have prices that are not too different\n",
    "\n",
    "### Therefore the streetCategory and Out variables will be removed from the model"
   ]
  },
  {
   "cell_type": "markdown",
   "metadata": {},
   "source": [
    "## Price Compared by Conservation, Floor, and Elevator"
   ]
  },
  {
   "cell_type": "code",
   "execution_count": 29,
   "metadata": {},
   "outputs": [
    {
     "data": {
      "image/png": "[encoded data removed]",
      "text/plain": [
       "<Figure size 1296x360 with 3 Axes>"
      ]
     },
     "metadata": {},
     "output_type": "display_data"
    }
   ],
   "source": [
    "f=plt.figure(figsize=(18,5))\n",
    "f.add_subplot(1,3,1)\n",
    "c=sns.boxplot(y=data['totalprice'],x=data['conservation'], order=['1A','2A','2B','3A'])\n",
    "c.set_xlabel(\"Price X consevation\", fontsize=15)\n",
    "\n",
    "f.add_subplot(1,3,2)\n",
    "c=sns.boxplot(y=data['totalprice'],x=data['floor'])\n",
    "c.set_xlabel(\"Price X floor\", fontsize=15)\n",
    "\n",
    "f.add_subplot(1,3,3)\n",
    "c=sns.boxplot(y=data['totalprice'],x=data['elevator'])\n",
    "c.set_xlabel(\"Price X elevator\", fontsize=15)\n",
    "\n",
    "plt.show()\n"
   ]
  },
  {
   "cell_type": "markdown",
   "metadata": {},
   "source": [
    "1. From the first box plot, it appears that the larger the Type of Conservation, the cheaper the price of the apartment.\n",
    "2. From the elevator boxplot, it appears that apartments that have elevators have a higher price than those without elevators"
   ]
  },
  {
   "cell_type": "markdown",
   "metadata": {},
   "source": [
    "## Price Compared by Garage, Toilets, and Tras"
   ]
  },
  {
   "cell_type": "code",
   "execution_count": 30,
   "metadata": {},
   "outputs": [
    {
     "data": {
      "image/png": "[encoded data removed]",
      "text/plain": [
       "<Figure size 1296x360 with 3 Axes>"
      ]
     },
     "metadata": {},
     "output_type": "display_data"
    }
   ],
   "source": [
    "f=plt.figure(figsize=(18,5))\n",
    "f.add_subplot(1,3,1)\n",
    "c=sns.boxplot(y=data['totalprice'],x=data['garage'])\n",
    "c.set_xlabel(\"Price X garage\", fontsize=15)\n",
    "\n",
    "f.add_subplot(1,3,2)\n",
    "c=sns.boxplot(y=data['totalprice'],x=data['toilets'])\n",
    "c.set_xlabel(\"Price X Toilets\", fontsize=15)\n",
    "\n",
    "f.add_subplot(1,3,3)\n",
    "c=sns.boxplot(y=data['totalprice'],x=data['tras'])\n",
    "c.set_xlabel(\"Price X Tras\", fontsize=15)\n",
    "plt.show()"
   ]
  },
  {
   "cell_type": "markdown",
   "metadata": {},
   "source": [
    "1. Dari boxplot pertama, terlihat bahwa Semakin banyak garasi yang dimiliki oleh rumah/apartemen, semakin mahal harganya\n",
    "2. Dari boxplot kedua, terlihat bahwa Rumah/apartemen yang memiliki banyak toilet, memiliki harga yang lebih tinggi"
   ]
  },
  {
   "cell_type": "markdown",
   "metadata": {},
   "source": [
    "## Price Compared By Zone"
   ]
  },
  {
   "cell_type": "code",
   "execution_count": 31,
   "metadata": {},
   "outputs": [
    {
     "data": {
      "image/png": "[encoded data removed]",
      "text/plain": [
       "<Figure size 936x360 with 1 Axes>"
      ]
     },
     "metadata": {},
     "output_type": "display_data"
    }
   ],
   "source": [
    "data2=data[['totalprice','zone']]\n",
    "data2_group=data2.groupby('zone').mean().sort_values('totalprice')\n",
    "data2_group.index\n",
    "\n",
    "f=plt.figure(figsize=(13,5))\n",
    "# Distribution off Age\n",
    "f.add_subplot(1,1,1)\n",
    "c=sns.boxplot(y=data['totalprice'],x=data['zone'], order=data2_group.index)\n",
    "c.set_xlabel(\"Zone\", fontsize=15)\n",
    "plt.show()"
   ]
  },
  {
   "cell_type": "markdown",
   "metadata": {},
   "source": [
    "Dari Boxplot di atas, terlihat bahwa Rumah/Apartemen yang memilki harga yng lebih rendah berada di zona 11, 62, 48, dan 38, sedangkan rumah yang berada di zona 21, 31, dan 42 memiliki harga yang sangat tinggi"
   ]
  },
  {
   "cell_type": "markdown",
   "metadata": {},
   "source": [
    "## Correlation Matrix"
   ]
  },
  {
   "cell_type": "code",
   "execution_count": 32,
   "metadata": {},
   "outputs": [
    {
     "data": {
      "text/plain": [
       "<matplotlib.axes._subplots.AxesSubplot at 0x1a914c8a240>"
      ]
     },
     "execution_count": 32,
     "metadata": {},
     "output_type": "execute_result"
    },
    {
     "data": {
      "image/png": "[encoded data removed]",
      "text/plain": [
       "<Figure size 720x504 with 2 Axes>"
      ]
     },
     "metadata": {},
     "output_type": "display_data"
    }
   ],
   "source": [
    "#Next step, we should choose numerical data first\n",
    "plt.figure(figsize=(10,7))\n",
    "sns.heatmap(numerik.corr(),annot=True)"
   ]
  },
  {
   "cell_type": "markdown",
   "metadata": {},
   "source": [
    "# 4. Variable Selection"
   ]
  },
  {
   "cell_type": "markdown",
   "metadata": {},
   "source": [
    "\n",
    "1. Before modelling, we should define target variable and the feature. Target Varable would be 'Totalprice', while the features are all the variable except 'totalprice'\n",
    "\n",
    "2. From the Data Exploration of Categorical Variabel that have been compared by Price, we can see that Variable Out and Street Category have no siginificant different each type when compared by price in the boxplot. So, we Drop Variable 'Out' and 'Street' from the Features\n",
    "\n"
   ]
  },
  {
   "cell_type": "markdown",
   "metadata": {},
   "source": [
    "# Modelling"
   ]
  },
  {
   "cell_type": "markdown",
   "metadata": {},
   "source": [
    "### Define target Variable (X) and the Features(y)"
   ]
  },
  {
   "cell_type": "code",
   "execution_count": 33,
   "metadata": {},
   "outputs": [],
   "source": [
    "y=(data['totalprice'])\n",
    "X=data.drop(['totalprice','out','streetcategory'],1)\n"
   ]
  },
  {
   "cell_type": "markdown",
   "metadata": {},
   "source": [
    "### Dummy Variable for Categorical Variable"
   ]
  },
  {
   "cell_type": "code",
   "execution_count": 34,
   "metadata": {},
   "outputs": [
    {
     "data": {
      "text/html": [
       "<div>\n",
       "<style scoped>\n",
       "    .dataframe tbody tr th:only-of-type {\n",
       "        vertical-align: middle;\n",
       "    }\n",
       "\n",
       "    .dataframe tbody tr th {\n",
       "        vertical-align: top;\n",
       "    }\n",
       "\n",
       "    .dataframe thead th {\n",
       "        text-align: right;\n",
       "    }\n",
       "</style>\n",
       "<table border=\"1\" class=\"dataframe\">\n",
       "  <thead>\n",
       "    <tr style=\"text-align: right;\">\n",
       "      <th></th>\n",
       "      <th>area</th>\n",
       "      <th>age</th>\n",
       "      <th>floor</th>\n",
       "      <th>rooms</th>\n",
       "      <th>toilets</th>\n",
       "      <th>garage</th>\n",
       "      <th>elevator</th>\n",
       "      <th>tras</th>\n",
       "      <th>zone_Z11</th>\n",
       "      <th>zone_Z21</th>\n",
       "      <th>...</th>\n",
       "      <th>category_4B</th>\n",
       "      <th>category_5A</th>\n",
       "      <th>conservation_1A</th>\n",
       "      <th>conservation_2A</th>\n",
       "      <th>conservation_2B</th>\n",
       "      <th>conservation_3A</th>\n",
       "      <th>heating_1A</th>\n",
       "      <th>heating_3A</th>\n",
       "      <th>heating_3B</th>\n",
       "      <th>heating_4A</th>\n",
       "    </tr>\n",
       "  </thead>\n",
       "  <tbody>\n",
       "    <tr>\n",
       "      <td>0</td>\n",
       "      <td>7.531000e+09</td>\n",
       "      <td>33</td>\n",
       "      <td>3</td>\n",
       "      <td>5</td>\n",
       "      <td>1</td>\n",
       "      <td>0</td>\n",
       "      <td>1</td>\n",
       "      <td>0</td>\n",
       "      <td>0</td>\n",
       "      <td>0</td>\n",
       "      <td>...</td>\n",
       "      <td>1</td>\n",
       "      <td>0</td>\n",
       "      <td>0</td>\n",
       "      <td>0</td>\n",
       "      <td>1</td>\n",
       "      <td>0</td>\n",
       "      <td>0</td>\n",
       "      <td>1</td>\n",
       "      <td>0</td>\n",
       "      <td>0</td>\n",
       "    </tr>\n",
       "    <tr>\n",
       "      <td>1</td>\n",
       "      <td>1.006500e+09</td>\n",
       "      <td>5</td>\n",
       "      <td>7</td>\n",
       "      <td>5</td>\n",
       "      <td>2</td>\n",
       "      <td>1</td>\n",
       "      <td>1</td>\n",
       "      <td>1</td>\n",
       "      <td>0</td>\n",
       "      <td>0</td>\n",
       "      <td>...</td>\n",
       "      <td>0</td>\n",
       "      <td>0</td>\n",
       "      <td>1</td>\n",
       "      <td>0</td>\n",
       "      <td>0</td>\n",
       "      <td>0</td>\n",
       "      <td>0</td>\n",
       "      <td>0</td>\n",
       "      <td>0</td>\n",
       "      <td>1</td>\n",
       "    </tr>\n",
       "    <tr>\n",
       "      <td>2</td>\n",
       "      <td>8.887000e+09</td>\n",
       "      <td>14</td>\n",
       "      <td>8</td>\n",
       "      <td>5</td>\n",
       "      <td>2</td>\n",
       "      <td>0</td>\n",
       "      <td>1</td>\n",
       "      <td>0</td>\n",
       "      <td>0</td>\n",
       "      <td>0</td>\n",
       "      <td>...</td>\n",
       "      <td>0</td>\n",
       "      <td>0</td>\n",
       "      <td>1</td>\n",
       "      <td>0</td>\n",
       "      <td>0</td>\n",
       "      <td>0</td>\n",
       "      <td>0</td>\n",
       "      <td>1</td>\n",
       "      <td>0</td>\n",
       "      <td>0</td>\n",
       "    </tr>\n",
       "    <tr>\n",
       "      <td>3</td>\n",
       "      <td>6.261000e+09</td>\n",
       "      <td>41</td>\n",
       "      <td>3</td>\n",
       "      <td>4</td>\n",
       "      <td>1</td>\n",
       "      <td>0</td>\n",
       "      <td>0</td>\n",
       "      <td>0</td>\n",
       "      <td>0</td>\n",
       "      <td>0</td>\n",
       "      <td>...</td>\n",
       "      <td>0</td>\n",
       "      <td>0</td>\n",
       "      <td>0</td>\n",
       "      <td>1</td>\n",
       "      <td>0</td>\n",
       "      <td>0</td>\n",
       "      <td>1</td>\n",
       "      <td>0</td>\n",
       "      <td>0</td>\n",
       "      <td>0</td>\n",
       "    </tr>\n",
       "    <tr>\n",
       "      <td>4</td>\n",
       "      <td>1.461500e+09</td>\n",
       "      <td>22</td>\n",
       "      <td>6</td>\n",
       "      <td>7</td>\n",
       "      <td>2</td>\n",
       "      <td>0</td>\n",
       "      <td>1</td>\n",
       "      <td>1</td>\n",
       "      <td>0</td>\n",
       "      <td>0</td>\n",
       "      <td>...</td>\n",
       "      <td>0</td>\n",
       "      <td>0</td>\n",
       "      <td>1</td>\n",
       "      <td>0</td>\n",
       "      <td>0</td>\n",
       "      <td>0</td>\n",
       "      <td>0</td>\n",
       "      <td>0</td>\n",
       "      <td>0</td>\n",
       "      <td>1</td>\n",
       "    </tr>\n",
       "  </tbody>\n",
       "</table>\n",
       "<p>5 rows × 46 columns</p>\n",
       "</div>"
      ],
      "text/plain": [
       "           area  age  floor  rooms  toilets  garage  elevator  tras  zone_Z11  \\\n",
       "0  7.531000e+09   33      3      5        1       0         1     0         0   \n",
       "1  1.006500e+09    5      7      5        2       1         1     1         0   \n",
       "2  8.887000e+09   14      8      5        2       0         1     0         0   \n",
       "3  6.261000e+09   41      3      4        1       0         0     0         0   \n",
       "4  1.461500e+09   22      6      7        2       0         1     1         0   \n",
       "\n",
       "   zone_Z21  ...  category_4B  category_5A  conservation_1A  conservation_2A  \\\n",
       "0         0  ...            1            0                0                0   \n",
       "1         0  ...            0            0                1                0   \n",
       "2         0  ...            0            0                1                0   \n",
       "3         0  ...            0            0                0                1   \n",
       "4         0  ...            0            0                1                0   \n",
       "\n",
       "   conservation_2B  conservation_3A  heating_1A  heating_3A  heating_3B  \\\n",
       "0                1                0           0           1           0   \n",
       "1                0                0           0           0           0   \n",
       "2                0                0           0           1           0   \n",
       "3                0                0           1           0           0   \n",
       "4                0                0           0           0           0   \n",
       "\n",
       "   heating_4A  \n",
       "0           0  \n",
       "1           1  \n",
       "2           0  \n",
       "3           0  \n",
       "4           1  \n",
       "\n",
       "[5 rows x 46 columns]"
      ]
     },
     "execution_count": 34,
     "metadata": {},
     "output_type": "execute_result"
    }
   ],
   "source": [
    "X=pd.get_dummies(X)\n",
    "X.head()"
   ]
  },
  {
   "cell_type": "markdown",
   "metadata": {},
   "source": [
    "### Split Data Training and Testing"
   ]
  },
  {
   "cell_type": "code",
   "execution_count": 35,
   "metadata": {},
   "outputs": [],
   "source": [
    "from sklearn.model_selection import train_test_split\n",
    "X_train,X_test,y_train,y_test = train_test_split(X,y,test_size = 0.3,random_state=1)"
   ]
  },
  {
   "cell_type": "markdown",
   "metadata": {},
   "source": [
    "### Collect All Possible model \n",
    "Model yang dibandingkan untuk memprediksi harga rumah adalah\n",
    "1. Decision Tree Regresor\n",
    "2. LinearRegression\n",
    "3. Ridge\n",
    "4. Lasso\n",
    "5. KNeighborsRegressor\n",
    "6. SVR\n",
    "7. RandomForestRegressor\n",
    "8. GradientBoostingRegressor"
   ]
  },
  {
   "cell_type": "code",
   "execution_count": 39,
   "metadata": {},
   "outputs": [
    {
     "data": {
      "text/plain": [
       "[sklearn.tree.tree.DecisionTreeRegressor,\n",
       " sklearn.linear_model.base.LinearRegression,\n",
       " sklearn.linear_model.ridge.Ridge,\n",
       " sklearn.linear_model.coordinate_descent.Lasso,\n",
       " sklearn.neighbors.regression.KNeighborsRegressor,\n",
       " sklearn.svm.classes.SVR,\n",
       " sklearn.ensemble.forest.RandomForestRegressor,\n",
       " sklearn.ensemble.gradient_boosting.GradientBoostingRegressor]"
      ]
     },
     "execution_count": 39,
     "metadata": {},
     "output_type": "execute_result"
    }
   ],
   "source": [
    "## collect all model in one list\n",
    "all_model = [DecisionTreeRegressor,\n",
    "            LinearRegression,\n",
    "             Ridge,\n",
    "             Lasso,\n",
    "             KNeighborsRegressor,\n",
    "             SVR,\n",
    "            RandomForestRegressor,\n",
    "            GradientBoostingRegressor]\n",
    "\n",
    "desc_model = ['DecisionTreeRegressor',\n",
    "            'LinearRegression',\n",
    "             'Ridge Regression',\n",
    "             'Lasso Regression',\n",
    "             'KNeighborsRegressor',\n",
    "             'SVR',\n",
    "            'RandomForestRegressor',\n",
    "            'GradientBoostingRegressor']\n",
    "\n",
    "all_model"
   ]
  },
  {
   "cell_type": "markdown",
   "metadata": {},
   "source": [
    "### Modelling"
   ]
  },
  {
   "cell_type": "code",
   "execution_count": 40,
   "metadata": {},
   "outputs": [],
   "source": [
    "R2_train = []\n",
    "R2_test = []\n",
    "RMSE =[]\n",
    "CV =[]\n",
    "\n",
    "for i in all_model:\n",
    "    model = i()\n",
    "    model.fit(X_train,y_train)\n",
    "    y_pred=model.predict(X_test)\n",
    "    R2_train.append(model.score(X_train,y_train))\n",
    "    R2_test.append(model.score(X_test,y_test))\n",
    "    rmse=np.sqrt(mean_squared_error(y_test, y_pred))\n",
    "    RMSE.append(rmse)\n",
    "    CV.append(rmse/data['totalprice'].mean())"
   ]
  },
  {
   "cell_type": "markdown",
   "metadata": {},
   "source": [
    "### Evaluation (Accuration or Error)"
   ]
  },
  {
   "cell_type": "markdown",
   "metadata": {},
   "source": [
    "1. Model Evaluation that would be used to evaluate the model are RMSE,R-sqare, R-square_gap and Coef_Variance\n",
    "2. Semakin kecil RMSE dan Coef_Variance nya, akan semakin bagus modelnya.\n",
    "3. Semakin tinggi dan mendekati 1 nilai R-square nya, maka makan model akan semakin bagus.\n",
    "4. Semakin kecil gap antara R-square train dan test, maka model tersebut semakin tidak overfit"
   ]
  },
  {
   "cell_type": "code",
   "execution_count": 41,
   "metadata": {},
   "outputs": [
    {
     "data": {
      "text/html": [
       "<div>\n",
       "<style scoped>\n",
       "    .dataframe tbody tr th:only-of-type {\n",
       "        vertical-align: middle;\n",
       "    }\n",
       "\n",
       "    .dataframe tbody tr th {\n",
       "        vertical-align: top;\n",
       "    }\n",
       "\n",
       "    .dataframe thead th {\n",
       "        text-align: right;\n",
       "    }\n",
       "</style>\n",
       "<table border=\"1\" class=\"dataframe\">\n",
       "  <thead>\n",
       "    <tr style=\"text-align: right;\">\n",
       "      <th></th>\n",
       "      <th>model</th>\n",
       "      <th>RMSE</th>\n",
       "      <th>Coef_Variance</th>\n",
       "      <th>R-Square_Train</th>\n",
       "      <th>R-Square_Test</th>\n",
       "      <th>R-Square_Gap</th>\n",
       "    </tr>\n",
       "  </thead>\n",
       "  <tbody>\n",
       "    <tr>\n",
       "      <td>2</td>\n",
       "      <td>Ridge Regression</td>\n",
       "      <td>26913.965959</td>\n",
       "      <td>0.095867</td>\n",
       "      <td>0.857111</td>\n",
       "      <td>0.855284</td>\n",
       "      <td>0.001826</td>\n",
       "    </tr>\n",
       "    <tr>\n",
       "      <td>3</td>\n",
       "      <td>Lasso Regression</td>\n",
       "      <td>27243.250685</td>\n",
       "      <td>0.097040</td>\n",
       "      <td>0.862194</td>\n",
       "      <td>0.851721</td>\n",
       "      <td>0.010473</td>\n",
       "    </tr>\n",
       "    <tr>\n",
       "      <td>1</td>\n",
       "      <td>LinearRegression</td>\n",
       "      <td>27255.128393</td>\n",
       "      <td>0.097083</td>\n",
       "      <td>0.862195</td>\n",
       "      <td>0.851592</td>\n",
       "      <td>0.010603</td>\n",
       "    </tr>\n",
       "    <tr>\n",
       "      <td>5</td>\n",
       "      <td>SVR</td>\n",
       "      <td>70822.450984</td>\n",
       "      <td>0.252269</td>\n",
       "      <td>-0.042170</td>\n",
       "      <td>-0.002081</td>\n",
       "      <td>0.040089</td>\n",
       "    </tr>\n",
       "    <tr>\n",
       "      <td>4</td>\n",
       "      <td>KNeighborsRegressor</td>\n",
       "      <td>33925.053847</td>\n",
       "      <td>0.120841</td>\n",
       "      <td>0.689496</td>\n",
       "      <td>0.770067</td>\n",
       "      <td>0.080571</td>\n",
       "    </tr>\n",
       "    <tr>\n",
       "      <td>7</td>\n",
       "      <td>GradientBoostingRegressor</td>\n",
       "      <td>24439.491237</td>\n",
       "      <td>0.087053</td>\n",
       "      <td>0.974406</td>\n",
       "      <td>0.880671</td>\n",
       "      <td>0.093734</td>\n",
       "    </tr>\n",
       "    <tr>\n",
       "      <td>6</td>\n",
       "      <td>RandomForestRegressor</td>\n",
       "      <td>29075.958813</td>\n",
       "      <td>0.103568</td>\n",
       "      <td>0.940331</td>\n",
       "      <td>0.831100</td>\n",
       "      <td>0.109231</td>\n",
       "    </tr>\n",
       "    <tr>\n",
       "      <td>0</td>\n",
       "      <td>DecisionTreeRegressor</td>\n",
       "      <td>45661.495433</td>\n",
       "      <td>0.162646</td>\n",
       "      <td>1.000000</td>\n",
       "      <td>0.583456</td>\n",
       "      <td>0.416544</td>\n",
       "    </tr>\n",
       "  </tbody>\n",
       "</table>\n",
       "</div>"
      ],
      "text/plain": [
       "                       model          RMSE  Coef_Variance  R-Square_Train  \\\n",
       "2           Ridge Regression  26913.965959       0.095867        0.857111   \n",
       "3           Lasso Regression  27243.250685       0.097040        0.862194   \n",
       "1           LinearRegression  27255.128393       0.097083        0.862195   \n",
       "5                        SVR  70822.450984       0.252269       -0.042170   \n",
       "4        KNeighborsRegressor  33925.053847       0.120841        0.689496   \n",
       "7  GradientBoostingRegressor  24439.491237       0.087053        0.974406   \n",
       "6      RandomForestRegressor  29075.958813       0.103568        0.940331   \n",
       "0      DecisionTreeRegressor  45661.495433       0.162646        1.000000   \n",
       "\n",
       "   R-Square_Test  R-Square_Gap  \n",
       "2       0.855284      0.001826  \n",
       "3       0.851721      0.010473  \n",
       "1       0.851592      0.010603  \n",
       "5      -0.002081      0.040089  \n",
       "4       0.770067      0.080571  \n",
       "7       0.880671      0.093734  \n",
       "6       0.831100      0.109231  \n",
       "0       0.583456      0.416544  "
      ]
     },
     "execution_count": 41,
     "metadata": {},
     "output_type": "execute_result"
    }
   ],
   "source": [
    "## compare model each other\n",
    "Eval = pd.DataFrame()\n",
    "Eval['model'] = desc_model\n",
    "Eval['RMSE'] = RMSE\n",
    "Eval['Coef_Variance']= CV\n",
    "Eval['R-Square_Train'] = R2_train\n",
    "Eval['R-Square_Test'] = R2_test\n",
    "Eval['R-Square_Gap'] = abs(Eval['R-Square_Train'] -Eval['R-Square_Test'])\n",
    "Eval.sort_values(by='R-Square_Gap',ascending=True)"
   ]
  },
  {
   "cell_type": "markdown",
   "metadata": {},
   "source": [
    "Dari hasil perbandingan model, terlihat bahwa model dengan Rsquare_train tertinggi adalah Gradient boosting, Random Forest dan Decision tree, namun nilai Rsquare-train nya sangat berbeda jauh gap nya dengan R-square test, sehingga dapat dikatakan model itu overfit dan tidak baik untuk pemodelan.\n",
    "\n",
    "Model dengan RMSE terendah dan R-square gap terkecil adalah Model Ridge Regression dengan R-square sebesar 85.7%. Model ini yang akan digunakan untuk memprediksi harga rumah."
   ]
  },
  {
   "cell_type": "markdown",
   "metadata": {},
   "source": [
    "## Ridge Regression Modelling with Tuning Parameter (alpha =0.01)"
   ]
  },
  {
   "cell_type": "code",
   "execution_count": 42,
   "metadata": {},
   "outputs": [
    {
     "data": {
      "text/plain": [
       "Ridge(alpha=0.01, copy_X=True, fit_intercept=True, max_iter=None,\n",
       "   normalize=False, random_state=None, solver='auto', tol=0.001)"
      ]
     },
     "execution_count": 42,
     "metadata": {},
     "output_type": "execute_result"
    }
   ],
   "source": [
    "model1=Ridge(alpha=0.01)\n",
    "model1.fit(X_train,y_train)"
   ]
  },
  {
   "cell_type": "code",
   "execution_count": 44,
   "metadata": {},
   "outputs": [
    {
     "name": "stdout",
     "output_type": "stream",
     "text": [
      "0.8517049530293307\n",
      "Root mean squared error:  27244.754752870118\n",
      "R2 score:  0.8517049530293306\n",
      "Coef Variance 0.09704568949734474\n"
     ]
    }
   ],
   "source": [
    "from sklearn.metrics import mean_squared_error, r2_score\n",
    "y_predicted = model1.predict(X_test)\n",
    "# model evaluation\n",
    "rmse = np.sqrt(mean_squared_error(y_test, y_predicted))\n",
    "r2 = r2_score(y_test, y_predicted)\n",
    "cv= rmse/data['totalprice'].mean()\n",
    "print(model1.score(X_test, y_test))\n",
    "print('Root mean squared error: ', rmse)\n",
    "print('R2 score: ', r2)\n",
    "print('Coef Variance',cv)"
   ]
  },
  {
   "cell_type": "markdown",
   "metadata": {},
   "source": [
    "# Thank You\n",
    "Created by : Fransdana Nadeak"
   ]
  }
 ],
 "metadata": {
  "kernelspec": {
   "display_name": "Python 3",
   "language": "python",
   "name": "python3"
  },
  "language_info": {
   "codemirror_mode": {
    "name": "ipython",
    "version": 3
   },
   "file_extension": ".py",
   "mimetype": "text/x-python",
   "name": "python",
   "nbconvert_exporter": "python",
   "pygments_lexer": "ipython3",
   "version": "3.6.9"
  }
 },
 "nbformat": 4,
 "nbformat_minor": 2
}
